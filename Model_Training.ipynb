{
  "cells": [
    {
      "cell_type": "markdown",
      "metadata": {
        "id": "view-in-github",
        "colab_type": "text"
      },
      "source": [
        "<a href=\"https://colab.research.google.com/github/KhattakDataLab/Ml_model/blob/main/Model_Training.ipynb\" target=\"_parent\"><img src=\"https://colab.research.google.com/assets/colab-badge.svg\" alt=\"Open In Colab\"/></a>"
      ]
    },
    {
      "cell_type": "markdown",
      "id": "c17a9ca1-9139-4c78-8f50-d412c3cb373d",
      "metadata": {
        "id": "c17a9ca1-9139-4c78-8f50-d412c3cb373d"
      },
      "source": [
        "# Machine Learning ModelTraining\n"
      ]
    },
    {
      "cell_type": "markdown",
      "id": "f71754a3-8991-4c00-93d5-d9b6f0a806b6",
      "metadata": {
        "jp-MarkdownHeadingCollapsed": true,
        "id": "f71754a3-8991-4c00-93d5-d9b6f0a806b6"
      },
      "source": [
        "### this model is train by Zeeshan Khattak\n",
        "### Trainer\n",
        "### Mam Sameen Naz\n",
        "### Sir Arsalan Jadoon\n",
        "### National University of Technology Islamabad"
      ]
    },
    {
      "cell_type": "markdown",
      "id": "f76bd06f-2914-4460-bb83-f1260c7a48b7",
      "metadata": {
        "id": "f76bd06f-2914-4460-bb83-f1260c7a48b7"
      },
      "source": [
        "# First step : problem identification\n",
        "### We will predict the salary of an employee based on their years of experience. This is a regression problem because the output (salary) is a continuous value."
      ]
    },
    {
      "cell_type": "markdown",
      "id": "8fd40f2e-3592-4fcc-a64e-af14b8df3637",
      "metadata": {
        "id": "8fd40f2e-3592-4fcc-a64e-af14b8df3637"
      },
      "source": [
        "#### Data Collection\n"
      ]
    },
    {
      "cell_type": "markdown",
      "id": "9d94f733-001d-4880-a64b-5ef41cdc7eba",
      "metadata": {
        "id": "9d94f733-001d-4880-a64b-5ef41cdc7eba"
      },
      "source": [
        "#### First We need to collect Our DataSet.For simplicity lets create\n",
        "#### a small dataSet"
      ]
    },
    {
      "cell_type": "code",
      "execution_count": 1,
      "id": "46daf52f-5af3-4e4a-897f-12481ae20aae",
      "metadata": {
        "id": "46daf52f-5af3-4e4a-897f-12481ae20aae"
      },
      "outputs": [],
      "source": [
        "# import libraries\n",
        "import pandas as pd\n",
        "import numpy as np"
      ]
    },
    {
      "cell_type": "code",
      "execution_count": 2,
      "id": "edceb28f-99f9-46db-8ab8-70f85231cc1f",
      "metadata": {
        "colab": {
          "base_uri": "https://localhost:8080/"
        },
        "id": "edceb28f-99f9-46db-8ab8-70f85231cc1f",
        "outputId": "094b2876-b24c-4027-fcc5-489952437b91"
      },
      "outputs": [
        {
          "output_type": "stream",
          "name": "stdout",
          "text": [
            "   YearsExperience  Salary\n",
            "0                1   45000\n",
            "1                2   50000\n",
            "2                3   60000\n",
            "3                4   65000\n",
            "4                5   70000\n",
            "5                6   75000\n",
            "6                7   80000\n",
            "7                8   85000\n",
            "8                9   90000\n",
            "9               10   95000\n"
          ]
        }
      ],
      "source": [
        "# Sample dataset: Years of experience vs. Salary\n",
        "data = {\n",
        "    'YearsExperience': [1, 2, 3, 4, 5, 6, 7, 8, 9, 10],\n",
        "    'Salary': [45000, 50000, 60000, 65000, 70000, 75000, 80000, 85000, 90000, 95000]\n",
        "}\n",
        "df = pd.DataFrame(data)\n",
        "print(df)"
      ]
    },
    {
      "cell_type": "markdown",
      "id": "81a8dcf7-c81b-4cfc-baac-eea1f42003c4",
      "metadata": {
        "id": "81a8dcf7-c81b-4cfc-baac-eea1f42003c4"
      },
      "source": [
        "## Step 2 Data Prepration"
      ]
    },
    {
      "cell_type": "markdown",
      "id": "f6d8ce50-7e45-4da5-b20a-3b88743409dd",
      "metadata": {
        "id": "f6d8ce50-7e45-4da5-b20a-3b88743409dd"
      },
      "source": [
        "##### Next, we need to prepare our data. This involves splitting the data into features (X) and labels (y), and then splitting it into training and testing sets."
      ]
    },
    {
      "cell_type": "code",
      "execution_count": 3,
      "id": "89684bef-c6fd-49bc-a36d-38442212c870",
      "metadata": {
        "id": "89684bef-c6fd-49bc-a36d-38442212c870"
      },
      "outputs": [],
      "source": [
        "from sklearn.model_selection import train_test_split\n",
        "\n",
        "# Feature (years of Experince ) and Labels (Salary )\n",
        "X=df[['YearsExperience']].values\n",
        "y=df['Salary'].values"
      ]
    },
    {
      "cell_type": "code",
      "execution_count": 4,
      "id": "99c621b3-67e2-4917-9ac3-7c92ab99a700",
      "metadata": {
        "colab": {
          "base_uri": "https://localhost:8080/"
        },
        "id": "99c621b3-67e2-4917-9ac3-7c92ab99a700",
        "outputId": "7d0b8883-b447-497f-a8d5-1df8a7122f4f"
      },
      "outputs": [
        {
          "output_type": "execute_result",
          "data": {
            "text/plain": [
              "(array([[ 1],\n",
              "        [ 2],\n",
              "        [ 3],\n",
              "        [ 4],\n",
              "        [ 5],\n",
              "        [ 6],\n",
              "        [ 7],\n",
              "        [ 8],\n",
              "        [ 9],\n",
              "        [10]]),\n",
              " array([45000, 50000, 60000, 65000, 70000, 75000, 80000, 85000, 90000,\n",
              "        95000]))"
            ]
          },
          "metadata": {},
          "execution_count": 4
        }
      ],
      "source": [
        "X,y"
      ]
    },
    {
      "cell_type": "markdown",
      "id": "79da05f8-7b8a-468e-83af-9c852d0a8719",
      "metadata": {
        "id": "79da05f8-7b8a-468e-83af-9c852d0a8719"
      },
      "source": [
        "# Step 3 : Model Selection"
      ]
    },
    {
      "cell_type": "markdown",
      "id": "ca11382d-3732-4d33-8d97-4f29afbb2e72",
      "metadata": {
        "id": "ca11382d-3732-4d33-8d97-4f29afbb2e72"
      },
      "source": [
        "### we will use Linear Regresssion for this Example"
      ]
    },
    {
      "cell_type": "code",
      "execution_count": 5,
      "id": "c3b6c1aa-4d88-4db7-91d0-885f27e9d418",
      "metadata": {
        "id": "c3b6c1aa-4d88-4db7-91d0-885f27e9d418"
      },
      "outputs": [],
      "source": [
        "from sklearn.model_selection import train_test_split\n",
        "from sklearn.linear_model import LinearRegression\n",
        "# Splitting the data into training and testing sets (80% train, 20% test)\n",
        "X_train,X_test,y_train,y_test=train_test_split(X,y,test_size=0.2,random_state=42)\n",
        "\n",
        "\n",
        "# Initializing the Linear Regression model\n",
        "model = LinearRegression()"
      ]
    },
    {
      "cell_type": "markdown",
      "id": "eb0b4e3f-caab-4a4e-b3a5-55fce22b3a03",
      "metadata": {
        "id": "eb0b4e3f-caab-4a4e-b3a5-55fce22b3a03"
      },
      "source": [
        "# Step 4 : Training the Model"
      ]
    },
    {
      "cell_type": "code",
      "execution_count": 6,
      "id": "b9ac401b-2c68-4e08-a9d7-35d0ac46ab6a",
      "metadata": {
        "colab": {
          "base_uri": "https://localhost:8080/",
          "height": 74
        },
        "id": "b9ac401b-2c68-4e08-a9d7-35d0ac46ab6a",
        "outputId": "c91bcf28-371a-4770-a86f-1099c4c643c6"
      },
      "outputs": [
        {
          "output_type": "execute_result",
          "data": {
            "text/plain": [
              "LinearRegression()"
            ],
            "text/html": [
              "<style>#sk-container-id-1 {color: black;background-color: white;}#sk-container-id-1 pre{padding: 0;}#sk-container-id-1 div.sk-toggleable {background-color: white;}#sk-container-id-1 label.sk-toggleable__label {cursor: pointer;display: block;width: 100%;margin-bottom: 0;padding: 0.3em;box-sizing: border-box;text-align: center;}#sk-container-id-1 label.sk-toggleable__label-arrow:before {content: \"▸\";float: left;margin-right: 0.25em;color: #696969;}#sk-container-id-1 label.sk-toggleable__label-arrow:hover:before {color: black;}#sk-container-id-1 div.sk-estimator:hover label.sk-toggleable__label-arrow:before {color: black;}#sk-container-id-1 div.sk-toggleable__content {max-height: 0;max-width: 0;overflow: hidden;text-align: left;background-color: #f0f8ff;}#sk-container-id-1 div.sk-toggleable__content pre {margin: 0.2em;color: black;border-radius: 0.25em;background-color: #f0f8ff;}#sk-container-id-1 input.sk-toggleable__control:checked~div.sk-toggleable__content {max-height: 200px;max-width: 100%;overflow: auto;}#sk-container-id-1 input.sk-toggleable__control:checked~label.sk-toggleable__label-arrow:before {content: \"▾\";}#sk-container-id-1 div.sk-estimator input.sk-toggleable__control:checked~label.sk-toggleable__label {background-color: #d4ebff;}#sk-container-id-1 div.sk-label input.sk-toggleable__control:checked~label.sk-toggleable__label {background-color: #d4ebff;}#sk-container-id-1 input.sk-hidden--visually {border: 0;clip: rect(1px 1px 1px 1px);clip: rect(1px, 1px, 1px, 1px);height: 1px;margin: -1px;overflow: hidden;padding: 0;position: absolute;width: 1px;}#sk-container-id-1 div.sk-estimator {font-family: monospace;background-color: #f0f8ff;border: 1px dotted black;border-radius: 0.25em;box-sizing: border-box;margin-bottom: 0.5em;}#sk-container-id-1 div.sk-estimator:hover {background-color: #d4ebff;}#sk-container-id-1 div.sk-parallel-item::after {content: \"\";width: 100%;border-bottom: 1px solid gray;flex-grow: 1;}#sk-container-id-1 div.sk-label:hover label.sk-toggleable__label {background-color: #d4ebff;}#sk-container-id-1 div.sk-serial::before {content: \"\";position: absolute;border-left: 1px solid gray;box-sizing: border-box;top: 0;bottom: 0;left: 50%;z-index: 0;}#sk-container-id-1 div.sk-serial {display: flex;flex-direction: column;align-items: center;background-color: white;padding-right: 0.2em;padding-left: 0.2em;position: relative;}#sk-container-id-1 div.sk-item {position: relative;z-index: 1;}#sk-container-id-1 div.sk-parallel {display: flex;align-items: stretch;justify-content: center;background-color: white;position: relative;}#sk-container-id-1 div.sk-item::before, #sk-container-id-1 div.sk-parallel-item::before {content: \"\";position: absolute;border-left: 1px solid gray;box-sizing: border-box;top: 0;bottom: 0;left: 50%;z-index: -1;}#sk-container-id-1 div.sk-parallel-item {display: flex;flex-direction: column;z-index: 1;position: relative;background-color: white;}#sk-container-id-1 div.sk-parallel-item:first-child::after {align-self: flex-end;width: 50%;}#sk-container-id-1 div.sk-parallel-item:last-child::after {align-self: flex-start;width: 50%;}#sk-container-id-1 div.sk-parallel-item:only-child::after {width: 0;}#sk-container-id-1 div.sk-dashed-wrapped {border: 1px dashed gray;margin: 0 0.4em 0.5em 0.4em;box-sizing: border-box;padding-bottom: 0.4em;background-color: white;}#sk-container-id-1 div.sk-label label {font-family: monospace;font-weight: bold;display: inline-block;line-height: 1.2em;}#sk-container-id-1 div.sk-label-container {text-align: center;}#sk-container-id-1 div.sk-container {/* jupyter's `normalize.less` sets `[hidden] { display: none; }` but bootstrap.min.css set `[hidden] { display: none !important; }` so we also need the `!important` here to be able to override the default hidden behavior on the sphinx rendered scikit-learn.org. See: https://github.com/scikit-learn/scikit-learn/issues/21755 */display: inline-block !important;position: relative;}#sk-container-id-1 div.sk-text-repr-fallback {display: none;}</style><div id=\"sk-container-id-1\" class=\"sk-top-container\"><div class=\"sk-text-repr-fallback\"><pre>LinearRegression()</pre><b>In a Jupyter environment, please rerun this cell to show the HTML representation or trust the notebook. <br />On GitHub, the HTML representation is unable to render, please try loading this page with nbviewer.org.</b></div><div class=\"sk-container\" hidden><div class=\"sk-item\"><div class=\"sk-estimator sk-toggleable\"><input class=\"sk-toggleable__control sk-hidden--visually\" id=\"sk-estimator-id-1\" type=\"checkbox\" checked><label for=\"sk-estimator-id-1\" class=\"sk-toggleable__label sk-toggleable__label-arrow\">LinearRegression</label><div class=\"sk-toggleable__content\"><pre>LinearRegression()</pre></div></div></div></div></div>"
            ]
          },
          "metadata": {},
          "execution_count": 6
        }
      ],
      "source": [
        "model.fit(X_train,y_train)"
      ]
    },
    {
      "cell_type": "markdown",
      "id": "175deaa1-6bca-42a6-848e-15e272f569c5",
      "metadata": {
        "id": "175deaa1-6bca-42a6-848e-15e272f569c5"
      },
      "source": [
        "# Step 5: Evaluation"
      ]
    },
    {
      "cell_type": "code",
      "execution_count": 7,
      "id": "57c65835-4f32-465a-908a-74a84c7f0c74",
      "metadata": {
        "colab": {
          "base_uri": "https://localhost:8080/"
        },
        "id": "57c65835-4f32-465a-908a-74a84c7f0c74",
        "outputId": "0795a136-0147-4a1c-baa3-a9e86e017e16"
      },
      "outputs": [
        {
          "output_type": "stream",
          "name": "stdout",
          "text": [
            "Mean Squared Error: 4820340.368608805\n",
            "R^2 Score: 0.987949149078478\n"
          ]
        }
      ],
      "source": [
        "# we will evaluate the models performance on the test data\n",
        "# predicting the salry for the test set\n",
        "y_pred=model.predict(X_test)\n",
        "\n",
        "# Evaluating the model's performance\n",
        "from sklearn.metrics import mean_squared_error, r2_score\n",
        "\n",
        "mse = mean_squared_error(y_test, y_pred)\n",
        "r2 = r2_score(y_test, y_pred)\n",
        "\n",
        "print(f'Mean Squared Error: {mse}')\n",
        "print(f'R^2 Score: {r2}')"
      ]
    },
    {
      "cell_type": "markdown",
      "id": "2f85dc33-4e15-4157-a6fb-d6c3e11257df",
      "metadata": {
        "id": "2f85dc33-4e15-4157-a6fb-d6c3e11257df"
      },
      "source": [
        "# Step 6 : Prediction"
      ]
    },
    {
      "cell_type": "code",
      "execution_count": 8,
      "id": "527f4561-c7f1-4ffd-8681-7004281a468a",
      "metadata": {
        "colab": {
          "base_uri": "https://localhost:8080/"
        },
        "id": "527f4561-c7f1-4ffd-8681-7004281a468a",
        "outputId": "25a51e23-1cf1-469c-c4b5-650336b1c945"
      },
      "outputs": [
        {
          "output_type": "stream",
          "name": "stdout",
          "text": [
            "Predicted Salary for 11 years of experience: 101508.62068965517\n"
          ]
        }
      ],
      "source": [
        "# Predicting the salary for someone with 11 years of experience\n",
        "years_experience = np.array([[11]])\n",
        "predicted_salary = model.predict(years_experience)\n",
        "\n",
        "print(f'Predicted Salary for 11 years of experience: {predicted_salary[0]}')\n"
      ]
    },
    {
      "cell_type": "code",
      "execution_count": 8,
      "id": "c7648571-c90f-4449-b8e3-d3953fadd1b9",
      "metadata": {
        "id": "c7648571-c90f-4449-b8e3-d3953fadd1b9"
      },
      "outputs": [],
      "source": []
    }
  ],
  "metadata": {
    "kernelspec": {
      "display_name": "Python 3 (ipykernel)",
      "language": "python",
      "name": "python3"
    },
    "language_info": {
      "codemirror_mode": {
        "name": "ipython",
        "version": 3
      },
      "file_extension": ".py",
      "mimetype": "text/x-python",
      "name": "python",
      "nbconvert_exporter": "python",
      "pygments_lexer": "ipython3",
      "version": "3.11.7"
    },
    "colab": {
      "provenance": [],
      "include_colab_link": true
    }
  },
  "nbformat": 4,
  "nbformat_minor": 5
}